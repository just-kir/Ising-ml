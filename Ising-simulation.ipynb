{
 "cells": [
  {
   "cell_type": "markdown",
   "metadata": {},
   "source": [
    "# Ising model code\n",
    "\n",
    "Here we just code Metropolis algorithm for the Ising model and generate a bunch of samples for train/predict ml stuff. The code for the Ising model is not an original piece a has been taken elsewhere.\n",
    "\n",
    "Hamiltonian for the model is\n",
    "$ H  = -\\sum_{<ij>} \\sigma_i \\sigma_j$."
   ]
  },
  {
   "cell_type": "code",
   "execution_count": null,
   "metadata": {},
   "outputs": [],
   "source": [
    "from __future__ import division\n",
    "%matplotlib inline\n",
    "import numpy as np\n",
    "from numpy.random import rand\n",
    "import matplotlib.pyplot as plt"
   ]
  },
  {
   "cell_type": "code",
   "execution_count": 9,
   "metadata": {},
   "outputs": [],
   "source": [
    "def initState(N):   # generates random spin state\n",
    "    state = 2*np.random.randint(2, size=(N,N))-1\n",
    "    return state"
   ]
  },
  {
   "cell_type": "code",
   "execution_count": 28,
   "metadata": {},
   "outputs": [],
   "source": [
    "def mcStep(config, beta): # Monte Carlo Metropolis step\n",
    "    for i in range(N):\n",
    "        for j in range(N):\n",
    "                a = np.random.randint(0, N)\n",
    "                b = np.random.randint(0, N)\n",
    "                s =  config[a, b]\n",
    "                nb = config[(a+1)%N,b] + config[a,(b+1)%N] + config[(a-1)%N,b] + config[a,(b-1)%N] \n",
    "                # here %N helps to make the geometry toric\n",
    "                cost = 2*s*nb\n",
    "                if cost < 0:\n",
    "                    s *= -1\n",
    "                elif rand() < np.exp(-cost*beta):\n",
    "                    s *= -1\n",
    "                config[a, b] = s\n",
    "    return config"
   ]
  },
  {
   "cell_type": "code",
   "execution_count": 31,
   "metadata": {},
   "outputs": [],
   "source": [
    "def calcEnergy(config):\n",
    "    #energy of a given configuration\n",
    "    energy = 0\n",
    "    for i in range(len(config)):\n",
    "        for j in range(len(config)):\n",
    "            S = config[i,j]\n",
    "            nb = config[(i+1)%N, j] + config[i,(j+1)%N] + config[(i-1)%N, j] + config[i,(j-1)%N]\n",
    "            energy += -nb*S\n",
    "    return energy/4.\n",
    "\n",
    "def calcMag(config):\n",
    "    #magnetization of a given configuration\n",
    "    mag = np.sum(config)\n",
    "    return mag"
   ]
  },
  {
   "cell_type": "code",
   "execution_count": 32,
   "metadata": {},
   "outputs": [],
   "source": [
    "## change these parameters for a smaller (faster) simulation \n",
    "nt      = 88         #  number of temperature points\n",
    "N       = 16         #  size of the lattice, N x N\n",
    "eqSteps = 1024       #  number of MC sweeps for equilibration\n",
    "mcSteps = 1024       #  number of MC sweeps for calculation\n",
    "\n",
    "T       = np.linspace(1.53, 3.28, nt); \n",
    "E,M,C,X = np.zeros(nt), np.zeros(nt), np.zeros(nt), np.zeros(nt)\n",
    "n1, n2  = 1.0/(mcSteps*N*N), 1.0/(mcSteps*mcSteps*N*N) \n",
    "# divide by number of samples, and by system size to get intensive values"
   ]
  },
  {
   "cell_type": "code",
   "execution_count": null,
   "metadata": {},
   "outputs": [],
   "source": [
    "for tt in range(nt):\n",
    "    E1 = M1 = E2 = M2 = 0\n",
    "    config = initState(N)\n",
    "    beta=1.0/T[tt]; beta2=beta*beta;\n",
    "    \n",
    "    for i in range(eqSteps):         # equilibrate\n",
    "        mcStep(config, beta)           # Monte Carlo moves\n",
    "\n",
    "    for i in range(mcSteps):\n",
    "        mcStep(config, beta)           \n",
    "        Ene = calcEnergy(config)     # calculate the energy\n",
    "        Mag = calcMag(config)        # calculate the magnetisation\n",
    "\n",
    "        E1 = E1 + Ene\n",
    "        M1 = M1 + Mag\n",
    "        M2 = M2 + Mag*Mag \n",
    "        E2 = E2 + Ene*Ene\n",
    "\n",
    "    E[tt] = n1*E1 # averaged!\n",
    "    M[tt] = n1*M1\n",
    "    C[tt] = (n1*E2 - n2*E1*E1)*beta2\n",
    "    X[tt] = (n1*M2 - n2*M1*M1)*beta"
   ]
  },
  {
   "cell_type": "code",
   "execution_count": null,
   "metadata": {},
   "outputs": [],
   "source": [
    "f = plt.figure(figsize=(18, 10)); # plot the calculated values    \n",
    "\n",
    "sp =  f.add_subplot(2, 2, 1 );\n",
    "plt.scatter(T, E, s=50, marker='o', color='IndianRed')\n",
    "plt.xlabel(\"Temperature (T)\", fontsize=20);\n",
    "plt.ylabel(\"Energy \", fontsize=20);         plt.axis('tight');\n",
    "\n",
    "sp =  f.add_subplot(2, 2, 2 );\n",
    "plt.scatter(T, abs(M), s=50, marker='o', color='RoyalBlue')\n",
    "plt.xlabel(\"Temperature (T)\", fontsize=20); \n",
    "plt.ylabel(\"Magnetization \", fontsize=20);   plt.axis('tight');\n",
    "\n",
    "sp =  f.add_subplot(2, 2, 3 );\n",
    "plt.scatter(T, C, s=50, marker='o', color='IndianRed')\n",
    "plt.xlabel(\"Temperature (T)\", fontsize=20);  \n",
    "plt.ylabel(\"Specific Heat \", fontsize=20);   plt.axis('tight');   \n",
    "\n",
    "sp =  f.add_subplot(2, 2, 4 );\n",
    "plt.scatter(T, X, s=50, marker='o', color='RoyalBlue')\n",
    "plt.xlabel(\"Temperature (T)\", fontsize=20); \n",
    "plt.ylabel(\"Susceptibility\", fontsize=20);   plt.axis('tight');"
   ]
  },
  {
   "cell_type": "code",
   "execution_count": null,
   "metadata": {},
   "outputs": [],
   "source": []
  }
 ],
 "metadata": {
  "kernelspec": {
   "display_name": "Python 3",
   "language": "python",
   "name": "python3"
  },
  "language_info": {
   "codemirror_mode": {
    "name": "ipython",
    "version": 3
   },
   "file_extension": ".py",
   "mimetype": "text/x-python",
   "name": "python",
   "nbconvert_exporter": "python",
   "pygments_lexer": "ipython3",
   "version": "3.7.2"
  }
 },
 "nbformat": 4,
 "nbformat_minor": 2
}
