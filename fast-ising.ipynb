{
 "cells": [
  {
   "cell_type": "code",
   "execution_count": null,
   "metadata": {},
   "outputs": [],
   "source": [
    "%matplotlib inline\n",
    "import numpy as np\n",
    "import matplotlib.pyplot as plt"
   ]
  },
  {
   "cell_type": "code",
   "execution_count": null,
   "metadata": {},
   "outputs": [],
   "source": [
    "def vmc(states, betas):\n",
    "    ixx = np.random.randint(N, size=nt)\n",
    "    iyy = np.random.randint(N, size=nt)\n",
    "    ixx_l = (ixx-1)%N\n",
    "    ixx_r = (ixx+1)%N\n",
    "    iyy_u = (iyy-1)%N\n",
    "    iyy_d = (iyy+1)%N\n",
    "    ss = states[np.arange(nt),ixx,iyy]\n",
    "    nbs = np.zeros(nt)\n",
    "    nbs += states[np.arange(nt),ixx_l,iyy]\n",
    "    nbs += states[np.arange(nt),ixx_r,iyy]\n",
    "    nbs += states[np.arange(nt),ixx,iyy_u]\n",
    "    nbs += states[np.arange(nt),ixx,iyy_d]\n",
    "    costs = 2*ss*nbs\n",
    "    flips = 1 - 2*(np.random.rand(nt) < np.exp(-costs*betas)).astype(int)\n",
    "    states[np.arange(nt),ixx,iyy] *= flips"
   ]
  },
  {
   "cell_type": "code",
   "execution_count": null,
   "metadata": {},
   "outputs": [],
   "source": [
    "def show_state(state):\n",
    "    fig, ax = plt.subplots()\n",
    "    ax.imshow(state)\n",
    "    ax.axis('off')"
   ]
  },
  {
   "cell_type": "markdown",
   "metadata": {},
   "source": [
    "# Let's use some numpy vectorize magic"
   ]
  },
  {
   "cell_type": "code",
   "execution_count": null,
   "metadata": {},
   "outputs": [],
   "source": [
    "# global parameters\n",
    "\n",
    "eq_steps = 1000\n",
    "N = 32\n",
    "nt = 10000"
   ]
  },
  {
   "cell_type": "code",
   "execution_count": null,
   "metadata": {},
   "outputs": [],
   "source": [
    "temps = np.linspace(1.2, 3.5, nt)\n",
    "betas = 1.0 / temps\n",
    "phases = (temps > 2.269185314)"
   ]
  },
  {
   "cell_type": "code",
   "execution_count": null,
   "metadata": {},
   "outputs": [],
   "source": [
    "states = 2*np.random.randint(2, size=(nt, N, N)) - 1"
   ]
  },
  {
   "cell_type": "code",
   "execution_count": null,
   "metadata": {},
   "outputs": [],
   "source": [
    "for state in states[::nt//5]:\n",
    "    show_state(state)"
   ]
  },
  {
   "cell_type": "code",
   "execution_count": null,
   "metadata": {},
   "outputs": [],
   "source": [
    "%%time\n",
    "for i in range(eq_steps*N*N):         # equilibrate\n",
    "    vmc(states, betas)\n",
    "    if (i%(N*N*eq_steps//100) == 0):\n",
    "        print(f'{i//(N*N*eq_steps//100)}%')"
   ]
  },
  {
   "cell_type": "code",
   "execution_count": null,
   "metadata": {
    "scrolled": false
   },
   "outputs": [],
   "source": [
    "for state in states[::nt//5]:\n",
    "    show_state(state)"
   ]
  },
  {
   "cell_type": "code",
   "execution_count": null,
   "metadata": {},
   "outputs": [],
   "source": [
    "import pandas as pd\n",
    "\n",
    "states_reshaped = states.reshape(nt, N*N)\n",
    "df = pd.DataFrame(np.hstack((states_reshaped, phases[:, None], betas[:, None])))"
   ]
  },
  {
   "cell_type": "code",
   "execution_count": null,
   "metadata": {},
   "outputs": [],
   "source": [
    "df.tail()"
   ]
  },
  {
   "cell_type": "code",
   "execution_count": null,
   "metadata": {},
   "outputs": [],
   "source": [
    "dfshuffled = df.sample(frac=1)\n",
    "train = dfshuffled[0:nt//2]\n",
    "test = dfshuffled[nt//2:]\n",
    "\n",
    "df.to_csv(f'Samples/N{N}steps{eq_steps}nt{nt}.csv', index=False)\n",
    "train.to_csv(f'Samples/train_N{N}steps{eq_steps}nt{nt}.csv', index=False)\n",
    "test.to_csv(f'Samples/test_N{N}steps{eq_steps}nt{nt}.csv', index=False)"
   ]
  },
  {
   "cell_type": "markdown",
   "metadata": {},
   "source": [
    "# Physics shit"
   ]
  },
  {
   "cell_type": "code",
   "execution_count": null,
   "metadata": {},
   "outputs": [],
   "source": [
    "def calcEnergy(config):\n",
    "    #energy of a given configuration\n",
    "    energy = 0\n",
    "    for i in range(len(config)):\n",
    "        for j in range(len(config)):\n",
    "            S = config[i,j]\n",
    "            nb = config[(i+1)%N, j] + config[i,(j+1)%N] + config[(i-1)%N, j] + config[i,(j-1)%N]\n",
    "            energy += -nb*S\n",
    "    return energy/4.\n",
    "\n",
    "def calcMag(config):\n",
    "    #magnetization of a given configuration\n",
    "    mag = np.sum(config)\n",
    "    return mag"
   ]
  },
  {
   "cell_type": "code",
   "execution_count": null,
   "metadata": {},
   "outputs": [],
   "source": [
    "mcSteps = 1024\n",
    "T       = temps\n",
    "E,M,C,X = np.zeros(nt), np.zeros(nt), np.zeros(nt), np.zeros(nt)\n",
    "E2, M2 = np.zeros(nt), np.zeros(nt)\n",
    "n1, n2  = 1.0/(mcSteps*N*N), 1.0/(mcSteps*mcSteps*N*N) \n",
    "\n",
    "for _ in range(mcSteps):\n",
    "    for __ in range(N*N):\n",
    "        vmc(states, betas)\n",
    "    for i in range(nt):\n",
    "        Ene = calcEnergy(states[i])     # calculate the energy\n",
    "        Mag = calcMag(states[i])        # calculate the magnetisation\n",
    "\n",
    "        E[i] += Ene\n",
    "        M[i] += Mag\n",
    "        M2[i] += Mag*Mag \n",
    "        E2[i] += Ene*Ene\n",
    "\n",
    "C = (n1*E2 - n2*E*E)*betas*betas\n",
    "X = (n1*M2 - n2*M*M)*betas\n",
    "E *= n1 # averaged!\n",
    "M *= n1"
   ]
  },
  {
   "cell_type": "code",
   "execution_count": null,
   "metadata": {},
   "outputs": [],
   "source": [
    "f = plt.figure(figsize=(18, 10)); # plot the calculated values    \n",
    "\n",
    "sp =  f.add_subplot(2, 2, 1 );\n",
    "plt.scatter(T, E, s=50, marker='o', color='IndianRed')\n",
    "plt.xlabel(\"Temperature (T)\", fontsize=20);\n",
    "plt.ylabel(\"Energy \", fontsize=20);         plt.axis('tight');\n",
    "\n",
    "sp =  f.add_subplot(2, 2, 2 );\n",
    "plt.scatter(T, abs(M), s=50, marker='o', color='RoyalBlue')\n",
    "plt.xlabel(\"Temperature (T)\", fontsize=20); \n",
    "plt.ylabel(\"Magnetization \", fontsize=20);   plt.axis('tight');\n",
    "\n",
    "sp =  f.add_subplot(2, 2, 3 );\n",
    "plt.scatter(T, C, s=50, marker='o', color='IndianRed')\n",
    "plt.xlabel(\"Temperature (T)\", fontsize=20);  \n",
    "plt.ylabel(\"Specific Heat \", fontsize=20);   plt.axis('tight');   \n",
    "\n",
    "sp =  f.add_subplot(2, 2, 4 );\n",
    "plt.scatter(T, X, s=50, marker='o', color='RoyalBlue')\n",
    "plt.xlabel(\"Temperature (T)\", fontsize=20); \n",
    "plt.ylabel(\"Susceptibility\", fontsize=20);   plt.axis('tight');"
   ]
  },
  {
   "cell_type": "code",
   "execution_count": null,
   "metadata": {},
   "outputs": [],
   "source": []
  }
 ],
 "metadata": {
  "kernelspec": {
   "display_name": "Python 3",
   "language": "python",
   "name": "python3"
  },
  "language_info": {
   "codemirror_mode": {
    "name": "ipython",
    "version": 3
   },
   "file_extension": ".py",
   "mimetype": "text/x-python",
   "name": "python",
   "nbconvert_exporter": "python",
   "pygments_lexer": "ipython3",
   "version": "3.7.3"
  }
 },
 "nbformat": 4,
 "nbformat_minor": 2
}
