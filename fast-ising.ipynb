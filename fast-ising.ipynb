{
 "cells": [
  {
   "cell_type": "code",
   "execution_count": null,
   "metadata": {},
   "outputs": [],
   "source": [
    "# hardcoding N as 16"
   ]
  },
  {
   "cell_type": "code",
   "execution_count": 2,
   "metadata": {},
   "outputs": [],
   "source": [
    "%matplotlib inline\n",
    "import numpy as np\n",
    "import matplotlib.pyplot as plt\n",
    "import Crypto.Random.random as rand\n",
    "import gmpy2"
   ]
  },
  {
   "cell_type": "code",
   "execution_count": 3,
   "metadata": {},
   "outputs": [],
   "source": [
    "def bitnum(row, col):\n",
    "    return row*N + col\n",
    "\n",
    "def get_masks(pos):\n",
    "    cell_mask = 2**pos # set one random bit to 1\n",
    "    row = pos // N\n",
    "    col = pos % N\n",
    "    col_left = (col - 1) % N\n",
    "    col_right = (col + 1) % N\n",
    "    row_up = (row - 1) % N\n",
    "    row_down = (row + 1) % N\n",
    "    adj_mask = 0\n",
    "    adj_mask += 2**bitnum(row, col_left)\n",
    "    adj_mask += 2**bitnum(row, col_right)\n",
    "    adj_mask += 2**bitnum(row_up, col)\n",
    "    adj_mask += 2**bitnum(row_down, col)\n",
    "    return cell_mask, adj_mask\n",
    "\n",
    "def print_state(state):\n",
    "    for row in range(N):\n",
    "        for col in range(N):\n",
    "            print(state%2, end='')\n",
    "            state //= 2\n",
    "        print()\n",
    "\n",
    "def show_state(state):\n",
    "    np_state = np.zeros((N,N))\n",
    "    for row in range(N):\n",
    "        for col in range(N):\n",
    "            np_state[row,col] = (state%2)*2 - 1\n",
    "            state //= 2\n",
    "    fig, ax = plt.subplots()\n",
    "    ax.imshow(np_state)\n",
    "    ax.axis('off')\n",
    "\n",
    "#pos = 34\n",
    "#cell, adj = get_masks(pos)\n",
    "#print_state(cell)\n",
    "#print('--------------------------')\n",
    "#print_state(adj)\n",
    "#for pos in range(256):\n",
    "#    pos_row = pos // 16\n",
    "#    pos_col = pos % 16\n",
    "#    print(f'{pos}:\\t({pos_row},{pos_col})')"
   ]
  },
  {
   "cell_type": "code",
   "execution_count": 42,
   "metadata": {},
   "outputs": [
    {
     "ename": "NameError",
     "evalue": "name 'long' is not defined",
     "output_type": "error",
     "traceback": [
      "\u001b[1;31m---------------------------------------------------------------------------\u001b[0m",
      "\u001b[1;31mNameError\u001b[0m                                 Traceback (most recent call last)",
      "\u001b[1;32m<ipython-input-42-0bf103f14e2f>\u001b[0m in \u001b[0;36m<module>\u001b[1;34m\u001b[0m\n\u001b[1;32m----> 1\u001b[1;33m \u001b[0mex\u001b[0m \u001b[1;33m=\u001b[0m \u001b[0mnp\u001b[0m\u001b[1;33m.\u001b[0m\u001b[0marray\u001b[0m\u001b[1;33m(\u001b[0m\u001b[1;33m[\u001b[0m\u001b[1;36m2\u001b[0m\u001b[1;33m,\u001b[0m \u001b[1;36m3\u001b[0m\u001b[1;33m]\u001b[0m\u001b[1;33m)\u001b[0m\u001b[1;33m.\u001b[0m\u001b[0mastype\u001b[0m\u001b[1;33m(\u001b[0m\u001b[0mlong\u001b[0m\u001b[1;33m)\u001b[0m\u001b[1;33m\u001b[0m\u001b[1;33m\u001b[0m\u001b[0m\n\u001b[0m\u001b[0;32m      2\u001b[0m \u001b[0mcc\u001b[0m\u001b[1;33m,\u001b[0m \u001b[0maa\u001b[0m \u001b[1;33m=\u001b[0m \u001b[0mget_masks\u001b[0m\u001b[1;33m(\u001b[0m\u001b[0mex\u001b[0m\u001b[1;33m)\u001b[0m\u001b[1;33m\u001b[0m\u001b[1;33m\u001b[0m\u001b[0m\n\u001b[0;32m      3\u001b[0m \u001b[1;32mfor\u001b[0m \u001b[0mc\u001b[0m \u001b[1;32min\u001b[0m \u001b[0mcc\u001b[0m\u001b[1;33m:\u001b[0m\u001b[1;33m\u001b[0m\u001b[1;33m\u001b[0m\u001b[0m\n\u001b[0;32m      4\u001b[0m     \u001b[0mprint_state\u001b[0m\u001b[1;33m(\u001b[0m\u001b[0mc\u001b[0m\u001b[1;33m)\u001b[0m\u001b[1;33m\u001b[0m\u001b[1;33m\u001b[0m\u001b[0m\n\u001b[0;32m      5\u001b[0m     \u001b[0mprint\u001b[0m\u001b[1;33m(\u001b[0m\u001b[1;34m'---'\u001b[0m\u001b[1;33m)\u001b[0m\u001b[1;33m\u001b[0m\u001b[1;33m\u001b[0m\u001b[0m\n",
      "\u001b[1;31mNameError\u001b[0m: name 'long' is not defined"
     ]
    }
   ],
   "source": [
    "ex = np.array([2, 3]).astype(long)\n",
    "cc, aa = get_masks(ex)\n",
    "for c in cc:\n",
    "    print_state(c)\n",
    "    print('---')\n",
    "for c in aa:\n",
    "    print_state(c)\n",
    "    print('---')"
   ]
  },
  {
   "cell_type": "code",
   "execution_count": 4,
   "metadata": {},
   "outputs": [],
   "source": [
    "def fast_mc_step(state, beta):\n",
    "    pos = np.random.randint(0,N*N-1)\n",
    "    cell, adj = get_masks(pos)\n",
    "\n",
    "    #print('--------------------------')\n",
    "    #print_state(cell)\n",
    "    #print('--------------------------')\n",
    "    #print_state(adj)\n",
    "    #print('--------------------------')\n",
    "\n",
    "    # s =  config[a, b]\n",
    "    s = int(state & cell != 0) # now it's 0 or 1\n",
    "    s = s*2 - 1 # now it's -1 or 1\n",
    "    # nb = config[(a+1)%N,b] + config[a,(b+1)%N] + config[(a-1)%N,b] + config[a,(b-1)%N] \n",
    "    nb = gmpy2.popcount(state & adj) # now it's 0 to 4\n",
    "    nb = nb*2 - 4 # now it's -4, -2, 0, 2 or 4\n",
    "    #print(s, nb)\n",
    "    cost = 2*s*nb\n",
    "    if np.random.rand() < np.exp(-cost*beta): # case of cost < 0 satisfies\n",
    "        # s *= -1\n",
    "        state ^= cell\n",
    "    return state"
   ]
  },
  {
   "cell_type": "code",
   "execution_count": 37,
   "metadata": {},
   "outputs": [],
   "source": [
    "def v_fast_mc_step(states, betas, nt):\n",
    "    poss = np.random.random_integers(0, N*N-1, size=nt)\n",
    "    print('poss', poss)\n",
    "    cells, adjs = get_masks(poss)\n",
    "    print('cells')\n",
    "    for cell in cells:\n",
    "        print(cell)\n",
    "    print('adjs')\n",
    "    for adj in adjs:\n",
    "        print(adj)\n",
    "\n",
    "    \n",
    "    #print('--------------------------')\n",
    "    #print_state(cell)\n",
    "    #print('--------------------------')\n",
    "    #print_state(adj)\n",
    "    #print('--------------------------')\n",
    "\n",
    "    # s =  config[a, b]\n",
    "    s = (states & cells != 0).astype(int) # now it's 0 or 1\n",
    "    s = s*2 - 1 # now it's -1 or 1\n",
    "    print('s',s)\n",
    "    # nb = config[(a+1)%N,b] + config[a,(b+1)%N] + config[(a-1)%N,b] + config[a,(b-1)%N]\n",
    "    nb = np.asarray([gmpy2.popcount(states[i] & adjs[i]) for i in range(nt)])\n",
    "#    nb = bin(states & adjs).count(\"1\") # now it's 0 to 4\n",
    "    nb = nb*2 - 4 # now it's -4, -2, 0, 2 or 4\n",
    "    print('nb',nb)\n",
    "    #print(s, nb)\n",
    "    cost = 2*s*nb\n",
    "    states_new = states ^ (np.random.rand(nt) < np.exp(-cost*beta)).astype(int) * cells\n",
    "    for st in (states_new ^ states):\n",
    "        print_state(st)\n",
    "    return states_new"
   ]
  },
  {
   "cell_type": "code",
   "execution_count": 6,
   "metadata": {},
   "outputs": [],
   "source": [
    "# global parameters\n",
    "\n",
    "eq_steps = 1024\n",
    "N = 16"
   ]
  },
  {
   "cell_type": "markdown",
   "metadata": {},
   "source": [
    "# Play with single temperature point"
   ]
  },
  {
   "cell_type": "code",
   "execution_count": 24,
   "metadata": {},
   "outputs": [
    {
     "data": {
      "image/png": "[encoded data removed]",
      "text/plain": [
       "<Figure size 432x288 with 1 Axes>"
      ]
     },
     "metadata": {
      "needs_background": "light"
     },
     "output_type": "display_data"
    }
   ],
   "source": [
    "t = 1.7\n",
    "beta = 1.0 / t\n",
    "state = rand.getrandbits(N*N) # N*N bits represent random state for NxN lattice\n",
    "show_state(state)"
   ]
  },
  {
   "cell_type": "code",
   "execution_count": 25,
   "metadata": {},
   "outputs": [
    {
     "name": "stdout",
     "output_type": "stream",
     "text": [
      "Wall time: 5.1 s\n"
     ]
    },
    {
     "data": {
      "image/png": "[encoded data removed]",
      "text/plain": [
       "<Figure size 432x288 with 1 Axes>"
      ]
     },
     "metadata": {
      "needs_background": "light"
     },
     "output_type": "display_data"
    }
   ],
   "source": [
    "%%time\n",
    "for i in range(eq_steps*N*N):         # equilibrate\n",
    "    state = fast_mc_step(state, beta)\n",
    "\n",
    "show_state(state)"
   ]
  },
  {
   "cell_type": "markdown",
   "metadata": {},
   "source": [
    "# Now let's use some numpy vectorize magic"
   ]
  },
  {
   "cell_type": "code",
   "execution_count": 46,
   "metadata": {},
   "outputs": [
    {
     "data": {
      "text/plain": [
       "dtype('O')"
      ]
     },
     "execution_count": 46,
     "metadata": {},
     "output_type": "execute_result"
    }
   ],
   "source": [
    "nt = 2\n",
    "temps = np.linspace(1.53, 3.28, nt)\n",
    "betas = 1.0 / temps\n",
    "states = np.asarray([rand.getrandbits(N*N) for i in range(nt)])\n",
    "#show_state(states[100])\n",
    "phases = (temps > 2.269185314)\n",
    "states.dtype"
   ]
  },
  {
   "cell_type": "code",
   "execution_count": 21,
   "metadata": {},
   "outputs": [
    {
     "data": {
      "image/png": "[encoded data removed]",
      "text/plain": [
       "<Figure size 432x288 with 1 Axes>"
      ]
     },
     "metadata": {
      "needs_background": "light"
     },
     "output_type": "display_data"
    },
    {
     "data": {
      "image/png": "[encoded data removed]",
      "text/plain": [
       "<Figure size 432x288 with 1 Axes>"
      ]
     },
     "metadata": {
      "needs_background": "light"
     },
     "output_type": "display_data"
    }
   ],
   "source": [
    "for state in states:\n",
    "    show_state(state)"
   ]
  },
  {
   "cell_type": "code",
   "execution_count": 38,
   "metadata": {},
   "outputs": [
    {
     "name": "stdout",
     "output_type": "stream",
     "text": [
      "poss [146 153]\n",
      "cells\n",
      "0\n",
      "0\n",
      "adjs\n",
      "0\n",
      "0\n",
      "s [-1 -1]\n",
      "nb [-4 -4]\n",
      "0000000000000000\n",
      "0000000000000000\n",
      "0000000000000000\n",
      "0000000000000000\n",
      "0000000000000000\n",
      "0000000000000000\n",
      "0000000000000000\n",
      "0000000000000000\n",
      "0000000000000000\n",
      "0000000000000000\n",
      "0000000000000000\n",
      "0000000000000000\n",
      "0000000000000000\n",
      "0000000000000000\n",
      "0000000000000000\n",
      "0000000000000000\n",
      "0000000000000000\n",
      "0000000000000000\n",
      "0000000000000000\n",
      "0000000000000000\n",
      "0000000000000000\n",
      "0000000000000000\n",
      "0000000000000000\n",
      "0000000000000000\n",
      "0000000000000000\n",
      "0000000000000000\n",
      "0000000000000000\n",
      "0000000000000000\n",
      "0000000000000000\n",
      "0000000000000000\n",
      "0000000000000000\n",
      "0000000000000000\n",
      "Wall time: 26.9 ms\n"
     ]
    },
    {
     "name": "stderr",
     "output_type": "stream",
     "text": [
      "C:\\Users\\ikhis\\Anaconda3\\lib\\site-packages\\ipykernel_launcher.py:2: DeprecationWarning: This function is deprecated. Please call randint(0, 255 + 1) instead\n",
      "  \n"
     ]
    }
   ],
   "source": [
    "%%time\n",
    "#for i in range(eq_steps*N*N):         # equilibrate\n",
    "states = v_fast_mc_step(states, betas, nt)"
   ]
  },
  {
   "cell_type": "code",
   "execution_count": 23,
   "metadata": {},
   "outputs": [
    {
     "data": {
      "image/png": "[encoded data removed]",
      "text/plain": [
       "<Figure size 432x288 with 1 Axes>"
      ]
     },
     "metadata": {
      "needs_background": "light"
     },
     "output_type": "display_data"
    },
    {
     "data": {
      "image/png": "[encoded data removed]",
      "text/plain": [
       "<Figure size 432x288 with 1 Axes>"
      ]
     },
     "metadata": {
      "needs_background": "light"
     },
     "output_type": "display_data"
    }
   ],
   "source": [
    "for state in states:\n",
    "    show_state(state)"
   ]
  }
 ],
 "metadata": {
  "kernelspec": {
   "display_name": "Python 3",
   "language": "python",
   "name": "python3"
  },
  "language_info": {
   "codemirror_mode": {
    "name": "ipython",
    "version": 3
   },
   "file_extension": ".py",
   "mimetype": "text/x-python",
   "name": "python",
   "nbconvert_exporter": "python",
   "pygments_lexer": "ipython3",
   "version": "3.7.3"
  }
 },
 "nbformat": 4,
 "nbformat_minor": 2
}
