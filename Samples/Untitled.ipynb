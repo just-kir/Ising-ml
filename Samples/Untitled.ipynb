{
 "cells": [
  {
   "cell_type": "code",
   "execution_count": 1,
   "metadata": {},
   "outputs": [],
   "source": [
    "from __future__ import division\n",
    "%matplotlib inline\n",
    "import numpy as np\n",
    "from numpy.random import rand\n",
    "import matplotlib.pyplot as plt"
   ]
  },
  {
   "cell_type": "code",
   "execution_count": 169,
   "metadata": {},
   "outputs": [],
   "source": [
    "nt = 100000\n",
    "N = 4\n",
    "picks = np.random.randint(N, size=(nt, 2))\n",
    "gens = 2*np.random.randint(2, size=(nt, N, N))-1"
   ]
  },
  {
   "cell_type": "code",
   "execution_count": 170,
   "metadata": {},
   "outputs": [],
   "source": [
    "def func(picks, gens):\n",
    "    x = picks[0]\n",
    "    y = picks[1]\n",
    "    gens.setflags(write=1)\n",
    "    gens[x][y] = 5\n",
    "    return gens"
   ]
  },
  {
   "cell_type": "code",
   "execution_count": 171,
   "metadata": {},
   "outputs": [],
   "source": [
    "vfunc = np.vectorize(func, signature='(2),(N,N)->(N,N)')"
   ]
  },
  {
   "cell_type": "code",
   "execution_count": 172,
   "metadata": {},
   "outputs": [],
   "source": [
    "xx = picks[:, 0]\n",
    "yy = picks[0, :1]"
   ]
  },
  {
   "cell_type": "code",
   "execution_count": 173,
   "metadata": {},
   "outputs": [
    {
     "name": "stdout",
     "output_type": "stream",
     "text": [
      "CPU times: user 2.83 ms, sys: 4.37 ms, total: 7.2 ms\n",
      "Wall time: 9.36 ms\n"
     ]
    }
   ],
   "source": [
    "%%time\n",
    "gens[np.arange(nt), xx, yy] = 5"
   ]
  },
  {
   "cell_type": "code",
   "execution_count": 158,
   "metadata": {},
   "outputs": [
    {
     "name": "stdout",
     "output_type": "stream",
     "text": [
      "CPU times: user 3.11 s, sys: 74.8 ms, total: 3.19 s\n",
      "Wall time: 3.22 s\n"
     ]
    },
    {
     "data": {
      "text/plain": [
       "array([[[-1, -1, -1, -1],\n",
       "        [-1,  1,  1,  1],\n",
       "        [ 1,  1,  5,  5],\n",
       "        [ 1, -1, -1, -1]],\n",
       "\n",
       "       [[ 1, -1,  5,  5],\n",
       "        [-1,  1, -1, -1],\n",
       "        [-1, -1,  1,  1],\n",
       "        [-1,  1, -1,  1]],\n",
       "\n",
       "       [[ 1,  1,  5,  5],\n",
       "        [-1, -1, -1, -1],\n",
       "        [ 1,  1, -1, -1],\n",
       "        [ 1,  1,  1,  1]],\n",
       "\n",
       "       ...,\n",
       "\n",
       "       [[ 1, -1, -1,  1],\n",
       "        [ 5,  1,  5,  1],\n",
       "        [-1,  1, -1,  1],\n",
       "        [-1,  1, -1, -1]],\n",
       "\n",
       "       [[ 1, -1, -1, -1],\n",
       "        [ 1, -1, -1, -1],\n",
       "        [ 1,  5,  5, -1],\n",
       "        [ 1, -1, -1,  1]],\n",
       "\n",
       "       [[ 1, -1,  1, -1],\n",
       "        [ 5,  1,  5,  1],\n",
       "        [ 1,  1,  1,  1],\n",
       "        [ 1, -1, -1,  1]]])"
      ]
     },
     "execution_count": 158,
     "metadata": {},
     "output_type": "execute_result"
    }
   ],
   "source": [
    "%%time\n",
    "vfunc(picks, gens)"
   ]
  },
  {
   "cell_type": "code",
   "execution_count": 83,
   "metadata": {},
   "outputs": [
    {
     "data": {
      "text/plain": [
       "  C_CONTIGUOUS : True\n",
       "  F_CONTIGUOUS : False\n",
       "  OWNDATA : True\n",
       "  WRITEABLE : True\n",
       "  ALIGNED : True\n",
       "  WRITEBACKIFCOPY : False\n",
       "  UPDATEIFCOPY : False"
      ]
     },
     "execution_count": 83,
     "metadata": {},
     "output_type": "execute_result"
    }
   ],
   "source": [
    "for "
   ]
  },
  {
   "cell_type": "code",
   "execution_count": 56,
   "metadata": {},
   "outputs": [
    {
     "data": {
      "text/plain": [
       "array([[1., 2., 1., 0., 0., 0.],\n",
       "       [0., 1., 2., 1., 0., 0.],\n",
       "       [0., 0., 1., 2., 1., 0.],\n",
       "       [0., 0., 0., 1., 2., 1.]])"
      ]
     },
     "execution_count": 56,
     "metadata": {},
     "output_type": "execute_result"
    }
   ],
   "source": [
    "convolve = np.vectorize(np.convolve, signature='(n),(m)->(k)')\n",
    "convolve(np.eye(4), [1, 2, 1])"
   ]
  },
  {
   "cell_type": "code",
   "execution_count": 78,
   "metadata": {},
   "outputs": [],
   "source": [
    "test_ar = np.array([np.eye(4), np.eye(4)])\n",
    "test_vec = np.array([[1, 1, 1, 1], [2, 2, 2, 2]])"
   ]
  },
  {
   "cell_type": "code",
   "execution_count": 66,
   "metadata": {},
   "outputs": [
    {
     "data": {
      "text/plain": [
       "array([1., 1., 1., 1.])"
      ]
     },
     "execution_count": 66,
     "metadata": {},
     "output_type": "execute_result"
    }
   ],
   "source": [
    "A = np.eye(4)\n",
    "A.dot([1, 1, 1, 1])"
   ]
  },
  {
   "cell_type": "code",
   "execution_count": 70,
   "metadata": {},
   "outputs": [
    {
     "data": {
      "text/plain": [
       "array([2., 1., 1., 1.])"
      ]
     },
     "execution_count": 70,
     "metadata": {},
     "output_type": "execute_result"
    }
   ],
   "source": [
    "np.inner(A, [2, 1, 1, 1]) "
   ]
  },
  {
   "cell_type": "code",
   "execution_count": 73,
   "metadata": {},
   "outputs": [],
   "source": [
    "inner_v = np.vectorize(np.inner, signature = '(n,n),(n)->(n)')"
   ]
  },
  {
   "cell_type": "code",
   "execution_count": 79,
   "metadata": {},
   "outputs": [
    {
     "data": {
      "text/plain": [
       "array([[1., 1., 1., 1.],\n",
       "       [2., 2., 2., 2.]])"
      ]
     },
     "execution_count": 79,
     "metadata": {},
     "output_type": "execute_result"
    }
   ],
   "source": [
    "inner_v(test_ar, test_vec)"
   ]
  },
  {
   "cell_type": "code",
   "execution_count": null,
   "metadata": {},
   "outputs": [],
   "source": []
  }
 ],
 "metadata": {
  "kernelspec": {
   "display_name": "Python 3",
   "language": "python",
   "name": "python3"
  },
  "language_info": {
   "codemirror_mode": {
    "name": "ipython",
    "version": 3
   },
   "file_extension": ".py",
   "mimetype": "text/x-python",
   "name": "python",
   "nbconvert_exporter": "python",
   "pygments_lexer": "ipython3",
   "version": "3.7.2"
  }
 },
 "nbformat": 4,
 "nbformat_minor": 2
}
