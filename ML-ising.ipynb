{
 "cells": [
  {
   "cell_type": "code",
   "execution_count": null,
   "metadata": {},
   "outputs": [],
   "source": [
    "import sys\n",
    "print(sys.version_info)\n",
    "\n",
    "import keras\n",
    "print(keras.__version__)\n",
    "import numpy as np\n",
    "import matplotlib.pyplot as plt\n",
    "import pandas as pd\n",
    "import json"
   ]
  },
  {
   "cell_type": "code",
   "execution_count": null,
   "metadata": {},
   "outputs": [],
   "source": [
    "# global parameters\n",
    "\n",
    "eq_steps = 256\n",
    "N = 32\n",
    "nt = 1000"
   ]
  },
  {
   "cell_type": "code",
   "execution_count": null,
   "metadata": {},
   "outputs": [],
   "source": [
    "# make sure corresponding files are prepared\n",
    "\n",
    "df_train = pd.read_csv(f'Samples/train_N{N}steps{eq_steps}nt{nt}.csv')\n",
    "df_test = pd.read_csv(f'Samples/test_N{N}steps{eq_steps}nt{nt}.csv')\n",
    "df_train.rename(columns={f'{N*N}': 'Phase', f'{N*N+1}': 'InvTemp'}, inplace=True)\n",
    "df_test.rename(columns={f'{N*N}': 'Phase', f'{N*N+1}': 'InvTemp'}, inplace=True)"
   ]
  },
  {
   "cell_type": "code",
   "execution_count": null,
   "metadata": {},
   "outputs": [],
   "source": [
    "df_train.head()"
   ]
  },
  {
   "cell_type": "code",
   "execution_count": null,
   "metadata": {},
   "outputs": [],
   "source": [
    "df_train.iloc[0:2,0:N*N]"
   ]
  },
  {
   "cell_type": "code",
   "execution_count": null,
   "metadata": {},
   "outputs": [],
   "source": [
    "i = np.random.randint(0, nt//2)\n",
    "plt.imshow(df_train.iloc[i,0:N*N].values.reshape((N, N)))"
   ]
  },
  {
   "cell_type": "code",
   "execution_count": null,
   "metadata": {},
   "outputs": [],
   "source": [
    "train_lattices = df_train.iloc[:,0:N*N]\n",
    "train_labels = df_train['Phase']\n",
    "test_lattices = df_test.iloc[:,0:N*N]\n",
    "test_labels = df_test['Phase']"
   ]
  },
  {
   "cell_type": "code",
   "execution_count": null,
   "metadata": {},
   "outputs": [],
   "source": [
    "test_lattices.shape"
   ]
  },
  {
   "cell_type": "code",
   "execution_count": null,
   "metadata": {},
   "outputs": [],
   "source": [
    "train_lattices = train_lattices.values.reshape((-1, N, N, 1))\n",
    "test_lattices = test_lattices.values.reshape((-1, N, N, 1))\n",
    "input_shape = (N, N, 1)"
   ]
  },
  {
   "cell_type": "code",
   "execution_count": null,
   "metadata": {},
   "outputs": [],
   "source": [
    "from keras import models\n",
    "from keras import layers\n",
    "from keras.utils import to_categorical\n",
    "from keras.regularizers import l2"
   ]
  },
  {
   "cell_type": "code",
   "execution_count": null,
   "metadata": {},
   "outputs": [],
   "source": [
    "train_labels = to_categorical(train_labels)\n",
    "test_labels = to_categorical(test_labels)"
   ]
  },
  {
   "cell_type": "code",
   "execution_count": null,
   "metadata": {},
   "outputs": [],
   "source": [
    "network = models.Sequential()\n",
    "network.add(layers.InputLayer(input_shape))\n",
    "network.add(layers.Flatten())\n",
    "network.add(layers.Dense(100, activation='sigmoid', kernel_regularizer=l2(0.01)))\n",
    "#network.add(layers.Activation('sigmoid'))\n",
    "network.add(layers.Dense(2, activation='softmax'))\n",
    "network.compile(optimizer='adam',\n",
    "                loss='categorical_crossentropy',\n",
    "                metrics=['accuracy'])"
   ]
  },
  {
   "cell_type": "code",
   "execution_count": null,
   "metadata": {},
   "outputs": [],
   "source": [
    "network.fit(train_lattices, train_labels, epochs=30, batch_size=128)"
   ]
  },
  {
   "cell_type": "code",
   "execution_count": null,
   "metadata": {},
   "outputs": [],
   "source": [
    "test_loss, test_acc = network.evaluate(test_lattices, test_labels)\n",
    "print('Neural network accuracy on test set:', test_acc)"
   ]
  },
  {
   "cell_type": "code",
   "execution_count": null,
   "metadata": {},
   "outputs": [],
   "source": [
    "#for tSNE\n",
    "train_lattices_tsne = df_train.iloc[:,0:N*N].values\n",
    "test_lattices_tsne = df_test.iloc[:,0:N*N].values\n",
    "train_labels_tsne = df_train['Phase']"
   ]
  },
  {
   "cell_type": "code",
   "execution_count": null,
   "metadata": {},
   "outputs": [],
   "source": [
    "from sklearn.manifold import TSNE\n",
    "tsne = TSNE(random_state=33)\n",
    "\n",
    "X_tsne = tsne.fit_transform(train_lattices_tsne)"
   ]
  },
  {
   "cell_type": "code",
   "execution_count": null,
   "metadata": {},
   "outputs": [],
   "source": [
    "# Visualize\n",
    "plt.figure(figsize=(12,10))\n",
    "\n",
    "plt.scatter(\n",
    "    X_tsne[:,0],\n",
    "    X_tsne[:,1],\n",
    "    c=train_labels_tsne,\n",
    "    alpha=0.7,\n",
    "    s=40,\n",
    ")\n",
    "\n",
    "plt.colorbar();  # add colorbar with mapping: color --> class\n",
    "plt.title('t-SNE for Ising lattices');"
   ]
  },
  {
   "cell_type": "code",
   "execution_count": null,
   "metadata": {},
   "outputs": [],
   "source": []
  },
  {
   "cell_type": "code",
   "execution_count": null,
   "metadata": {},
   "outputs": [],
   "source": [
    "#early workaround\n",
    "#df_train['Repr'] = df_train['Configuration'].apply(lambda x: np.array(json.loads(x.replace('\\n',',').replace('1 ','1, '))))\n",
    "#df_test['Repr'] = df_test['Configuration'].apply(lambda x: np.array(json.loads(x.replace('\\n',',').replace('1 ','1, '))))"
   ]
  }
 ],
 "metadata": {
  "kernelspec": {
   "display_name": "Python 3",
   "language": "python",
   "name": "python3"
  },
  "language_info": {
   "codemirror_mode": {
    "name": "ipython",
    "version": 3
   },
   "file_extension": ".py",
   "mimetype": "text/x-python",
   "name": "python",
   "nbconvert_exporter": "python",
   "pygments_lexer": "ipython3",
   "version": "3.7.3"
  }
 },
 "nbformat": 4,
 "nbformat_minor": 2
}
