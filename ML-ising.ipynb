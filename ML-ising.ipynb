{
 "cells": [
  {
   "cell_type": "code",
   "execution_count": 68,
   "metadata": {},
   "outputs": [
    {
     "name": "stdout",
     "output_type": "stream",
     "text": [
      "sys.version_info(major=3, minor=7, micro=3, releaselevel='final', serial=0)\n",
      "2.2.4\n"
     ]
    }
   ],
   "source": [
    "import sys\n",
    "print(sys.version_info)\n",
    "\n",
    "import keras\n",
    "print(keras.__version__)\n",
    "import numpy as np\n",
    "import matplotlib.pyplot as plt\n",
    "import pandas as pd\n",
    "import json"
   ]
  },
  {
   "cell_type": "code",
   "execution_count": 69,
   "metadata": {},
   "outputs": [],
   "source": [
    "df_train = pd.read_csv('Samples/train400.csv')\n",
    "df_test = pd.read_csv('Samples/test400.csv')"
   ]
  },
  {
   "cell_type": "code",
   "execution_count": 70,
   "metadata": {},
   "outputs": [
    {
     "data": {
      "text/html": [
       "<div>\n",
       "<style scoped>\n",
       "    .dataframe tbody tr th:only-of-type {\n",
       "        vertical-align: middle;\n",
       "    }\n",
       "\n",
       "    .dataframe tbody tr th {\n",
       "        vertical-align: top;\n",
       "    }\n",
       "\n",
       "    .dataframe thead th {\n",
       "        text-align: right;\n",
       "    }\n",
       "</style>\n",
       "<table border=\"1\" class=\"dataframe\">\n",
       "  <thead>\n",
       "    <tr style=\"text-align: right;\">\n",
       "      <th></th>\n",
       "      <th>Unnamed: 0</th>\n",
       "      <th>Configuration</th>\n",
       "      <th>Phase</th>\n",
       "      <th>Inverse temperature</th>\n",
       "    </tr>\n",
       "  </thead>\n",
       "  <tbody>\n",
       "    <tr>\n",
       "      <th>0</th>\n",
       "      <td>151</td>\n",
       "      <td>[[-1 -1 -1 -1 -1 -1 -1 -1 -1 -1 -1 -1 -1 -1 -1...</td>\n",
       "      <td>0</td>\n",
       "      <td>0.537425</td>\n",
       "    </tr>\n",
       "    <tr>\n",
       "      <th>1</th>\n",
       "      <td>303</td>\n",
       "      <td>[[ 1  1  1  1  1 -1 -1 -1 -1 -1 -1 -1  1  1  1...</td>\n",
       "      <td>0</td>\n",
       "      <td>0.455863</td>\n",
       "    </tr>\n",
       "    <tr>\n",
       "      <th>2</th>\n",
       "      <td>634</td>\n",
       "      <td>[[-1  1 -1 -1 -1  1  1  1  1  1  1  1 -1  1  1...</td>\n",
       "      <td>1</td>\n",
       "      <td>0.342629</td>\n",
       "    </tr>\n",
       "    <tr>\n",
       "      <th>3</th>\n",
       "      <td>669</td>\n",
       "      <td>[[ 1  1  1  1  1 -1  1  1  1  1 -1 -1  1  1  1...</td>\n",
       "      <td>1</td>\n",
       "      <td>0.333860</td>\n",
       "    </tr>\n",
       "    <tr>\n",
       "      <th>4</th>\n",
       "      <td>738</td>\n",
       "      <td>[[-1  1 -1 -1 -1  1  1  1 -1 -1 -1  1  1  1  1...</td>\n",
       "      <td>1</td>\n",
       "      <td>0.317824</td>\n",
       "    </tr>\n",
       "  </tbody>\n",
       "</table>\n",
       "</div>"
      ],
      "text/plain": [
       "   Unnamed: 0                                      Configuration  Phase  \\\n",
       "0         151  [[-1 -1 -1 -1 -1 -1 -1 -1 -1 -1 -1 -1 -1 -1 -1...      0   \n",
       "1         303  [[ 1  1  1  1  1 -1 -1 -1 -1 -1 -1 -1  1  1  1...      0   \n",
       "2         634  [[-1  1 -1 -1 -1  1  1  1  1  1  1  1 -1  1  1...      1   \n",
       "3         669  [[ 1  1  1  1  1 -1  1  1  1  1 -1 -1  1  1  1...      1   \n",
       "4         738  [[-1  1 -1 -1 -1  1  1  1 -1 -1 -1  1  1  1  1...      1   \n",
       "\n",
       "   Inverse temperature  \n",
       "0             0.537425  \n",
       "1             0.455863  \n",
       "2             0.342629  \n",
       "3             0.333860  \n",
       "4             0.317824  "
      ]
     },
     "execution_count": 70,
     "metadata": {},
     "output_type": "execute_result"
    }
   ],
   "source": [
    "df_train.head()"
   ]
  },
  {
   "cell_type": "code",
   "execution_count": 71,
   "metadata": {},
   "outputs": [],
   "source": [
    "df_train['Repr'] = df_train['Configuration'].apply(lambda x: np.array(json.loads(x.replace('\\n',',').replace('1 ','1, '))))\n",
    "df_test['Repr'] = df_test['Configuration'].apply(lambda x: np.array(json.loads(x.replace('\\n',',').replace('1 ','1, '))))"
   ]
  },
  {
   "cell_type": "code",
   "execution_count": 114,
   "metadata": {},
   "outputs": [
    {
     "name": "stdout",
     "output_type": "stream",
     "text": [
      "0\n"
     ]
    },
    {
     "data": {
      "image/png": "[encoded data removed]",
      "text/plain": [
       "<Figure size 432x288 with 1 Axes>"
      ]
     },
     "metadata": {
      "needs_background": "light"
     },
     "output_type": "display_data"
    }
   ],
   "source": [
    "i = np.random.randint(0, 100)\n",
    "plt.imshow(df_train['Repr'][i])\n",
    "print(df_train['Phase'][i])"
   ]
  },
  {
   "cell_type": "code",
   "execution_count": 115,
   "metadata": {},
   "outputs": [],
   "source": [
    "train_lattices = np.stack(df_train['Repr'])\n",
    "train_labels = df_train['Phase']\n",
    "test_lattices = np.stack(df_test['Repr'])\n",
    "test_labels = df_test['Phase']"
   ]
  },
  {
   "cell_type": "code",
   "execution_count": 117,
   "metadata": {},
   "outputs": [
    {
     "data": {
      "text/plain": [
       "(400, 16, 16)"
      ]
     },
     "execution_count": 117,
     "metadata": {},
     "output_type": "execute_result"
    }
   ],
   "source": [
    "test_lattices.shape"
   ]
  },
  {
   "cell_type": "code",
   "execution_count": 118,
   "metadata": {},
   "outputs": [],
   "source": [
    "train_lattices = train_lattices.reshape((-1, 16, 16, 1))\n",
    "test_lattices = test_lattices.reshape((-1, 16, 16, 1))\n",
    "input_shape = (16, 16, 1)"
   ]
  },
  {
   "cell_type": "code",
   "execution_count": 119,
   "metadata": {},
   "outputs": [],
   "source": [
    "from keras import models\n",
    "from keras import layers\n",
    "from keras.utils import to_categorical"
   ]
  },
  {
   "cell_type": "code",
   "execution_count": 120,
   "metadata": {},
   "outputs": [],
   "source": [
    "train_labels = to_categorical(train_labels)\n",
    "test_labels = to_categorical(test_labels)"
   ]
  },
  {
   "cell_type": "code",
   "execution_count": 123,
   "metadata": {},
   "outputs": [],
   "source": [
    "network = models.Sequential()\n",
    "network.add(layers.InputLayer(input_shape))\n",
    "network.add(layers.Flatten())\n",
    "network.add(layers.Dense(100))\n",
    "network.add(layers.Dense(2, activation='softmax'))\n",
    "network.compile(optimizer='adam',\n",
    "                loss='categorical_crossentropy',\n",
    "                metrics=['accuracy'])"
   ]
  },
  {
   "cell_type": "code",
   "execution_count": 125,
   "metadata": {},
   "outputs": [
    {
     "name": "stdout",
     "output_type": "stream",
     "text": [
      "Epoch 1/125\n",
      "400/400 [==============================] - 0s 42us/step - loss: 0.4479 - acc: 0.7750\n",
      "Epoch 2/125\n",
      "400/400 [==============================] - 0s 58us/step - loss: 0.4518 - acc: 0.7625\n",
      "Epoch 3/125\n",
      "400/400 [==============================] - 0s 75us/step - loss: 0.4402 - acc: 0.8225\n",
      "Epoch 4/125\n",
      "400/400 [==============================] - 0s 42us/step - loss: 0.4427 - acc: 0.7725\n",
      "Epoch 5/125\n",
      "400/400 [==============================] - 0s 40us/step - loss: 0.4252 - acc: 0.8250\n",
      "Epoch 6/125\n",
      "400/400 [==============================] - 0s 35us/step - loss: 0.4242 - acc: 0.8050\n",
      "Epoch 7/125\n",
      "400/400 [==============================] - 0s 32us/step - loss: 0.4304 - acc: 0.7900\n",
      "Epoch 8/125\n",
      "400/400 [==============================] - 0s 30us/step - loss: 0.4339 - acc: 0.7875\n",
      "Epoch 9/125\n",
      "400/400 [==============================] - 0s 32us/step - loss: 0.4091 - acc: 0.8300\n",
      "Epoch 10/125\n",
      "400/400 [==============================] - 0s 32us/step - loss: 0.4037 - acc: 0.8425\n",
      "Epoch 11/125\n",
      "400/400 [==============================] - 0s 35us/step - loss: 0.4018 - acc: 0.8175\n",
      "Epoch 12/125\n",
      "400/400 [==============================] - 0s 37us/step - loss: 0.3987 - acc: 0.8125\n",
      "Epoch 13/125\n",
      "400/400 [==============================] - 0s 35us/step - loss: 0.3981 - acc: 0.8100\n",
      "Epoch 14/125\n",
      "400/400 [==============================] - 0s 35us/step - loss: 0.4027 - acc: 0.8025\n",
      "Epoch 15/125\n",
      "400/400 [==============================] - 0s 35us/step - loss: 0.3849 - acc: 0.8325\n",
      "Epoch 16/125\n",
      "400/400 [==============================] - 0s 39us/step - loss: 0.3775 - acc: 0.8275\n",
      "Epoch 17/125\n",
      "400/400 [==============================] - 0s 37us/step - loss: 0.3728 - acc: 0.8200\n",
      "Epoch 18/125\n",
      "400/400 [==============================] - 0s 35us/step - loss: 0.3684 - acc: 0.8350\n",
      "Epoch 19/125\n",
      "400/400 [==============================] - 0s 42us/step - loss: 0.3634 - acc: 0.8475\n",
      "Epoch 20/125\n",
      "400/400 [==============================] - 0s 35us/step - loss: 0.3667 - acc: 0.8375\n",
      "Epoch 21/125\n",
      "400/400 [==============================] - 0s 42us/step - loss: 0.3597 - acc: 0.8675\n",
      "Epoch 22/125\n",
      "400/400 [==============================] - 0s 37us/step - loss: 0.4248 - acc: 0.7775\n",
      "Epoch 23/125\n",
      "400/400 [==============================] - 0s 35us/step - loss: 0.4646 - acc: 0.7625\n",
      "Epoch 24/125\n",
      "400/400 [==============================] - 0s 35us/step - loss: 0.3739 - acc: 0.8475\n",
      "Epoch 25/125\n",
      "400/400 [==============================] - 0s 32us/step - loss: 0.3676 - acc: 0.8425\n",
      "Epoch 26/125\n",
      "400/400 [==============================] - 0s 30us/step - loss: 0.3619 - acc: 0.8450\n",
      "Epoch 27/125\n",
      "400/400 [==============================] - 0s 27us/step - loss: 0.3517 - acc: 0.8475\n",
      "Epoch 28/125\n",
      "400/400 [==============================] - 0s 30us/step - loss: 0.3371 - acc: 0.8700\n",
      "Epoch 29/125\n",
      "400/400 [==============================] - 0s 35us/step - loss: 0.3364 - acc: 0.8625\n",
      "Epoch 30/125\n",
      "400/400 [==============================] - 0s 27us/step - loss: 0.3328 - acc: 0.8750\n",
      "Epoch 31/125\n",
      "400/400 [==============================] - 0s 32us/step - loss: 0.3278 - acc: 0.8800\n",
      "Epoch 32/125\n",
      "400/400 [==============================] - 0s 27us/step - loss: 0.3324 - acc: 0.8675\n",
      "Epoch 33/125\n",
      "400/400 [==============================] - 0s 37us/step - loss: 0.3234 - acc: 0.9000\n",
      "Epoch 34/125\n",
      "400/400 [==============================] - 0s 35us/step - loss: 0.3192 - acc: 0.8950\n",
      "Epoch 35/125\n",
      "400/400 [==============================] - 0s 27us/step - loss: 0.3147 - acc: 0.9025\n",
      "Epoch 36/125\n",
      "400/400 [==============================] - 0s 25us/step - loss: 0.3125 - acc: 0.8975\n",
      "Epoch 37/125\n",
      "400/400 [==============================] - 0s 37us/step - loss: 0.3134 - acc: 0.8800\n",
      "Epoch 38/125\n",
      "400/400 [==============================] - 0s 36us/step - loss: 0.3135 - acc: 0.8650\n",
      "Epoch 39/125\n",
      "400/400 [==============================] - 0s 32us/step - loss: 0.3232 - acc: 0.8575\n",
      "Epoch 40/125\n",
      "400/400 [==============================] - 0s 27us/step - loss: 0.3954 - acc: 0.7975\n",
      "Epoch 41/125\n",
      "400/400 [==============================] - 0s 30us/step - loss: 0.3658 - acc: 0.8325\n",
      "Epoch 42/125\n",
      "400/400 [==============================] - 0s 27us/step - loss: 0.3129 - acc: 0.8775\n",
      "Epoch 43/125\n",
      "400/400 [==============================] - 0s 27us/step - loss: 0.3091 - acc: 0.8725\n",
      "Epoch 44/125\n",
      "400/400 [==============================] - 0s 35us/step - loss: 0.3061 - acc: 0.8875\n",
      "Epoch 45/125\n",
      "400/400 [==============================] - 0s 28us/step - loss: 0.2956 - acc: 0.8950\n",
      "Epoch 46/125\n",
      "400/400 [==============================] - 0s 32us/step - loss: 0.3003 - acc: 0.8900\n",
      "Epoch 47/125\n",
      "400/400 [==============================] - 0s 37us/step - loss: 0.2972 - acc: 0.8750\n",
      "Epoch 48/125\n",
      "400/400 [==============================] - 0s 30us/step - loss: 0.4098 - acc: 0.7850\n",
      "Epoch 49/125\n",
      "400/400 [==============================] - 0s 42us/step - loss: 0.3475 - acc: 0.8150\n",
      "Epoch 50/125\n",
      "400/400 [==============================] - 0s 35us/step - loss: 0.3006 - acc: 0.8825\n",
      "Epoch 51/125\n",
      "400/400 [==============================] - 0s 21us/step - loss: 0.3246 - acc: 0.8400\n",
      "Epoch 52/125\n",
      "400/400 [==============================] - 0s 30us/step - loss: 0.3145 - acc: 0.8600\n",
      "Epoch 53/125\n",
      "400/400 [==============================] - 0s 32us/step - loss: 0.3027 - acc: 0.8675\n",
      "Epoch 54/125\n",
      "400/400 [==============================] - 0s 35us/step - loss: 0.3289 - acc: 0.8525\n",
      "Epoch 55/125\n",
      "400/400 [==============================] - 0s 42us/step - loss: 0.2842 - acc: 0.8825\n",
      "Epoch 56/125\n",
      "400/400 [==============================] - 0s 37us/step - loss: 0.2813 - acc: 0.8825\n",
      "Epoch 57/125\n",
      "400/400 [==============================] - 0s 27us/step - loss: 0.2822 - acc: 0.8875\n",
      "Epoch 58/125\n",
      "400/400 [==============================] - 0s 23us/step - loss: 0.2731 - acc: 0.9075\n",
      "Epoch 59/125\n",
      "400/400 [==============================] - 0s 22us/step - loss: 0.2681 - acc: 0.9100\n",
      "Epoch 60/125\n",
      "400/400 [==============================] - 0s 32us/step - loss: 0.2669 - acc: 0.9225\n",
      "Epoch 61/125\n",
      "400/400 [==============================] - 0s 27us/step - loss: 0.2593 - acc: 0.9300\n",
      "Epoch 62/125\n",
      "400/400 [==============================] - 0s 35us/step - loss: 0.2643 - acc: 0.9175\n",
      "Epoch 63/125\n",
      "400/400 [==============================] - 0s 37us/step - loss: 0.2562 - acc: 0.9300\n",
      "Epoch 64/125\n",
      "400/400 [==============================] - 0s 40us/step - loss: 0.2556 - acc: 0.9175\n",
      "Epoch 65/125\n",
      "400/400 [==============================] - 0s 27us/step - loss: 0.2529 - acc: 0.9325\n",
      "Epoch 66/125\n",
      "400/400 [==============================] - 0s 32us/step - loss: 0.2558 - acc: 0.9100\n",
      "Epoch 67/125\n",
      "400/400 [==============================] - ETA: 0s - loss: 0.2951 - acc: 0.914 - 0s 32us/step - loss: 0.2534 - acc: 0.9250\n",
      "Epoch 68/125\n",
      "400/400 [==============================] - 0s 30us/step - loss: 0.2480 - acc: 0.9375\n",
      "Epoch 69/125\n",
      "400/400 [==============================] - 0s 35us/step - loss: 0.2534 - acc: 0.9150\n",
      "Epoch 70/125\n",
      "400/400 [==============================] - 0s 31us/step - loss: 0.2568 - acc: 0.9025\n",
      "Epoch 71/125\n",
      "400/400 [==============================] - 0s 40us/step - loss: 0.2544 - acc: 0.9200\n",
      "Epoch 72/125\n",
      "400/400 [==============================] - 0s 35us/step - loss: 0.2619 - acc: 0.9050\n",
      "Epoch 73/125\n",
      "400/400 [==============================] - 0s 47us/step - loss: 0.2635 - acc: 0.8825\n",
      "Epoch 74/125\n",
      "400/400 [==============================] - 0s 30us/step - loss: 0.2518 - acc: 0.9125\n",
      "Epoch 75/125\n",
      "400/400 [==============================] - 0s 27us/step - loss: 0.2361 - acc: 0.9350\n",
      "Epoch 76/125\n",
      "400/400 [==============================] - 0s 20us/step - loss: 0.2357 - acc: 0.9325\n",
      "Epoch 77/125\n",
      "400/400 [==============================] - 0s 28us/step - loss: 0.2333 - acc: 0.9325\n",
      "Epoch 78/125\n",
      "400/400 [==============================] - 0s 30us/step - loss: 0.2370 - acc: 0.9375\n",
      "Epoch 79/125\n",
      "400/400 [==============================] - 0s 37us/step - loss: 0.2476 - acc: 0.8800\n",
      "Epoch 80/125\n",
      "400/400 [==============================] - ETA: 0s - loss: 0.1934 - acc: 0.953 - 0s 27us/step - loss: 0.2367 - acc: 0.9200\n",
      "Epoch 81/125\n",
      "400/400 [==============================] - 0s 23us/step - loss: 0.2324 - acc: 0.9150\n",
      "Epoch 82/125\n",
      "400/400 [==============================] - 0s 32us/step - loss: 0.2256 - acc: 0.9475\n",
      "Epoch 83/125\n"
     ]
    },
    {
     "name": "stdout",
     "output_type": "stream",
     "text": [
      "400/400 [==============================] - 0s 27us/step - loss: 0.2314 - acc: 0.9200\n",
      "Epoch 84/125\n",
      "400/400 [==============================] - 0s 30us/step - loss: 0.2218 - acc: 0.9450\n",
      "Epoch 85/125\n",
      "400/400 [==============================] - 0s 30us/step - loss: 0.2434 - acc: 0.8800\n",
      "Epoch 86/125\n",
      "400/400 [==============================] - 0s 32us/step - loss: 0.2275 - acc: 0.9325\n",
      "Epoch 87/125\n",
      "400/400 [==============================] - 0s 97us/step - loss: 0.2221 - acc: 0.9375\n",
      "Epoch 88/125\n",
      "400/400 [==============================] - 0s 21us/step - loss: 0.2217 - acc: 0.9500\n",
      "Epoch 89/125\n",
      "400/400 [==============================] - 0s 33us/step - loss: 0.2171 - acc: 0.9425\n",
      "Epoch 90/125\n",
      "400/400 [==============================] - 0s 35us/step - loss: 0.2113 - acc: 0.9500\n",
      "Epoch 91/125\n",
      "400/400 [==============================] - 0s 37us/step - loss: 0.2159 - acc: 0.9550\n",
      "Epoch 92/125\n",
      "400/400 [==============================] - 0s 32us/step - loss: 0.2188 - acc: 0.9375\n",
      "Epoch 93/125\n",
      "400/400 [==============================] - 0s 30us/step - loss: 0.2106 - acc: 0.9500\n",
      "Epoch 94/125\n",
      "400/400 [==============================] - 0s 30us/step - loss: 0.2107 - acc: 0.9275\n",
      "Epoch 95/125\n",
      "400/400 [==============================] - 0s 25us/step - loss: 0.2415 - acc: 0.8950\n",
      "Epoch 96/125\n",
      "400/400 [==============================] - 0s 35us/step - loss: 0.2343 - acc: 0.8925\n",
      "Epoch 97/125\n",
      "400/400 [==============================] - 0s 58us/step - loss: 0.2575 - acc: 0.8900\n",
      "Epoch 98/125\n",
      "400/400 [==============================] - 0s 35us/step - loss: 0.2410 - acc: 0.8950\n",
      "Epoch 99/125\n",
      "400/400 [==============================] - 0s 30us/step - loss: 0.2037 - acc: 0.9475\n",
      "Epoch 100/125\n",
      "400/400 [==============================] - 0s 30us/step - loss: 0.2070 - acc: 0.9500\n",
      "Epoch 101/125\n",
      "400/400 [==============================] - 0s 32us/step - loss: 0.2010 - acc: 0.9575\n",
      "Epoch 102/125\n",
      "400/400 [==============================] - 0s 35us/step - loss: 0.1963 - acc: 0.9550\n",
      "Epoch 103/125\n",
      "400/400 [==============================] - 0s 40us/step - loss: 0.2291 - acc: 0.9125\n",
      "Epoch 104/125\n",
      "400/400 [==============================] - 0s 40us/step - loss: 0.2098 - acc: 0.9375\n",
      "Epoch 105/125\n",
      "400/400 [==============================] - 0s 40us/step - loss: 0.2018 - acc: 0.9350\n",
      "Epoch 106/125\n",
      "400/400 [==============================] - 0s 33us/step - loss: 0.2005 - acc: 0.9500\n",
      "Epoch 107/125\n",
      "400/400 [==============================] - 0s 35us/step - loss: 0.2385 - acc: 0.8825\n",
      "Epoch 108/125\n",
      "400/400 [==============================] - 0s 32us/step - loss: 0.2400 - acc: 0.9050\n",
      "Epoch 109/125\n",
      "400/400 [==============================] - 0s 37us/step - loss: 0.2611 - acc: 0.8725\n",
      "Epoch 110/125\n",
      "400/400 [==============================] - 0s 32us/step - loss: 0.2116 - acc: 0.9275\n",
      "Epoch 111/125\n",
      "400/400 [==============================] - 0s 30us/step - loss: 0.1970 - acc: 0.9450\n",
      "Epoch 112/125\n",
      "400/400 [==============================] - 0s 32us/step - loss: 0.1880 - acc: 0.9500\n",
      "Epoch 113/125\n",
      "400/400 [==============================] - 0s 32us/step - loss: 0.1882 - acc: 0.9575\n",
      "Epoch 114/125\n",
      "400/400 [==============================] - 0s 32us/step - loss: 0.1910 - acc: 0.9375\n",
      "Epoch 115/125\n",
      "400/400 [==============================] - 0s 37us/step - loss: 0.2064 - acc: 0.9375\n",
      "Epoch 116/125\n",
      "400/400 [==============================] - 0s 35us/step - loss: 0.1831 - acc: 0.9475\n",
      "Epoch 117/125\n",
      "400/400 [==============================] - 0s 35us/step - loss: 0.1859 - acc: 0.9475\n",
      "Epoch 118/125\n",
      "400/400 [==============================] - 0s 37us/step - loss: 0.2107 - acc: 0.9125\n",
      "Epoch 119/125\n",
      "400/400 [==============================] - 0s 31us/step - loss: 0.2070 - acc: 0.9200\n",
      "Epoch 120/125\n",
      "400/400 [==============================] - 0s 32us/step - loss: 0.2112 - acc: 0.9300\n",
      "Epoch 121/125\n",
      "400/400 [==============================] - 0s 32us/step - loss: 0.2439 - acc: 0.8800\n",
      "Epoch 122/125\n",
      "400/400 [==============================] - 0s 34us/step - loss: 0.2346 - acc: 0.8900\n",
      "Epoch 123/125\n",
      "400/400 [==============================] - 0s 35us/step - loss: 0.2704 - acc: 0.8725\n",
      "Epoch 124/125\n",
      "400/400 [==============================] - 0s 29us/step - loss: 0.2342 - acc: 0.8900\n",
      "Epoch 125/125\n",
      "400/400 [==============================] - 0s 30us/step - loss: 0.1768 - acc: 0.9475\n"
     ]
    },
    {
     "data": {
      "text/plain": [
       "<keras.callbacks.History at 0x1665e403908>"
      ]
     },
     "execution_count": 125,
     "metadata": {},
     "output_type": "execute_result"
    }
   ],
   "source": [
    "network.fit(train_lattices, train_labels, epochs=125, batch_size=128)"
   ]
  },
  {
   "cell_type": "code",
   "execution_count": 126,
   "metadata": {},
   "outputs": [
    {
     "name": "stdout",
     "output_type": "stream",
     "text": [
      "400/400 [==============================] - 0s 489us/step\n",
      "Neural network accuracy on test set: 0.575\n"
     ]
    }
   ],
   "source": [
    "test_loss, test_acc = network.evaluate(test_lattices, test_labels)\n",
    "print('Neural network accuracy on test set:', test_acc)"
   ]
  }
 ],
 "metadata": {
  "kernelspec": {
   "display_name": "Python 3",
   "language": "python",
   "name": "python3"
  },
  "language_info": {
   "codemirror_mode": {
    "name": "ipython",
    "version": 3
   },
   "file_extension": ".py",
   "mimetype": "text/x-python",
   "name": "python",
   "nbconvert_exporter": "python",
   "pygments_lexer": "ipython3",
   "version": "3.7.3"
  }
 },
 "nbformat": 4,
 "nbformat_minor": 2
}
